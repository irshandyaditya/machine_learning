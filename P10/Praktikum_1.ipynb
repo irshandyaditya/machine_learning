{
  "nbformat": 4,
  "nbformat_minor": 0,
  "metadata": {
    "colab": {
      "provenance": [],
      "authorship_tag": "ABX9TyOXl2vMLaCsFklCFNZ2/VDi",
      "include_colab_link": true
    },
    "kernelspec": {
      "name": "python3",
      "display_name": "Python 3"
    },
    "language_info": {
      "name": "python"
    }
  },
  "cells": [
    {
      "cell_type": "markdown",
      "metadata": {
        "id": "view-in-github",
        "colab_type": "text"
      },
      "source": [
        "<a href=\"https://colab.research.google.com/github/irshandyaditya/machine_learning/blob/main/P10/Praktikum_1.ipynb\" target=\"_parent\"><img src=\"https://colab.research.google.com/assets/colab-badge.svg\" alt=\"Open In Colab\"/></a>"
      ]
    },
    {
      "cell_type": "markdown",
      "source": [
        "### **Setup**"
      ],
      "metadata": {
        "id": "1-rYXsX2anWw"
      }
    },
    {
      "cell_type": "code",
      "execution_count": 1,
      "metadata": {
        "id": "YsRMhm96ZTnk"
      },
      "outputs": [],
      "source": [
        "import numpy as np\n",
        "import tensorflow_datasets as tfds\n",
        "import tensorflow as tf\n",
        "\n",
        "tfds.disable_progress_bar()"
      ]
    },
    {
      "cell_type": "code",
      "source": [
        "import matplotlib.pyplot as plt\n",
        "\n",
        "def plot_graphs(history, metric):\n",
        "  plt.plot(history.history[metric])\n",
        "  plt.plot(history.history['val_'+metric], '')\n",
        "  plt.xlabel(\"Epochs\")\n",
        "  plt.ylabel(metric)\n",
        "  plt.legend([metric, 'val_'+metric])"
      ],
      "metadata": {
        "id": "LtqfXlogaX9w"
      },
      "execution_count": 3,
      "outputs": []
    },
    {
      "cell_type": "markdown",
      "source": [
        "### **Setup input pipeline**"
      ],
      "metadata": {
        "id": "So_x3F-ea6JG"
      }
    },
    {
      "cell_type": "code",
      "source": [
        "dataset, info = tfds.load('imdb_reviews', with_info=True,\n",
        "                          as_supervised=True)\n",
        "train_dataset, test_dataset = dataset['train'], dataset['test']\n",
        "\n",
        "train_dataset.element_spec"
      ],
      "metadata": {
        "id": "lwyrWtshayup",
        "outputId": "f5bf03b0-6931-4b12-f1d8-b5a9354419aa",
        "colab": {
          "base_uri": "https://localhost:8080/"
        }
      },
      "execution_count": 4,
      "outputs": [
        {
          "output_type": "stream",
          "name": "stdout",
          "text": [
            "Downloading and preparing dataset 80.23 MiB (download: 80.23 MiB, generated: Unknown size, total: 80.23 MiB) to /root/tensorflow_datasets/imdb_reviews/plain_text/1.0.0...\n",
            "Dataset imdb_reviews downloaded and prepared to /root/tensorflow_datasets/imdb_reviews/plain_text/1.0.0. Subsequent calls will reuse this data.\n"
          ]
        },
        {
          "output_type": "execute_result",
          "data": {
            "text/plain": [
              "(TensorSpec(shape=(), dtype=tf.string, name=None),\n",
              " TensorSpec(shape=(), dtype=tf.int64, name=None))"
            ]
          },
          "metadata": {},
          "execution_count": 4
        }
      ]
    },
    {
      "cell_type": "markdown",
      "source": [
        "Mengembalikan dataset (teks, pasangan label):"
      ],
      "metadata": {
        "id": "EJ9a4SUNbx53"
      }
    },
    {
      "cell_type": "code",
      "source": [
        "for example, label in train_dataset.take(1):\n",
        "  print('text: ', example.numpy())\n",
        "  print('label: ', label.numpy())"
      ],
      "metadata": {
        "id": "Eb6yLr0kbQcG",
        "outputId": "a88b62a9-e829-4b82-938a-259665ac66e6",
        "colab": {
          "base_uri": "https://localhost:8080/"
        }
      },
      "execution_count": 5,
      "outputs": [
        {
          "output_type": "stream",
          "name": "stdout",
          "text": [
            "text:  b\"This was an absolutely terrible movie. Don't be lured in by Christopher Walken or Michael Ironside. Both are great actors, but this must simply be their worst role in history. Even their great acting could not redeem this movie's ridiculous storyline. This movie is an early nineties US propaganda piece. The most pathetic scenes were those when the Columbian rebels were making their cases for revolutions. Maria Conchita Alonso appeared phony, and her pseudo-love affair with Walken was nothing but a pathetic emotional plug in a movie that was devoid of any real meaning. I am disappointed that there are movies like this, ruining actor's like Christopher Walken's good name. I could barely sit through it.\"\n",
            "label:  0\n"
          ]
        }
      ]
    },
    {
      "cell_type": "markdown",
      "source": [
        "Acak data untuk pelatihan dan membuat kumpulan pasangan (teks, label)"
      ],
      "metadata": {
        "id": "knuf6mUNctp_"
      }
    },
    {
      "cell_type": "code",
      "source": [
        "BUFFER_SIZE = 10000\n",
        "BATCH_SIZE = 64\n",
        "\n",
        "train_dataset = train_dataset.shuffle(BUFFER_SIZE).batch(BATCH_SIZE).prefetch(tf.data.AUTOTUNE)\n",
        "test_dataset = test_dataset.batch(BATCH_SIZE).prefetch(tf.data.AUTOTUNE)\n",
        "\n",
        "for example, label in train_dataset.take(1):\n",
        "  print('texts: ', example.numpy()[:3])\n",
        "  print()\n",
        "  print('labels: ', label.numpy()[:3])\n"
      ],
      "metadata": {
        "id": "QX4EMBHZb5Wi",
        "outputId": "15426ec5-51b8-460f-b289-f7301f41c701",
        "colab": {
          "base_uri": "https://localhost:8080/"
        }
      },
      "execution_count": 6,
      "outputs": [
        {
          "output_type": "stream",
          "name": "stdout",
          "text": [
            "texts:  [b'I loved this movie. Great storyline and actors and good movie sets. It told the story in a way I can easily understand and pay attention to without falling asleep. I would like to know where I could get the soundtrack. I can not find it anywhere. Please email me if you know where I could get the soundtrack. Other than not being able to find the soundtrack I thought the movie was fascinating. Swayze did a great job. I think this is some of his best work. His past movies were OK, but this one really told a story for a change. This will go down in history as being one of the best TV films ever aired. Congrats to the producers and writers of such a great piece of work.'\n",
            " b\"Two women, sick of their controlling husbands, taking a vacation in Italy for a month with two other very different women.They come back refreshed and energized in this wonderful little film by Merchant - Ivory.<br /><br />Great scenery and the location isn't bad either. Seriously, a very good period piece 7 of 10\"\n",
            " b\"This movie was like a bad indie with A-list talent. The plot was silly, all the way to the end. It reminded me very much of something churned out for the home video market in the 1980's. I would have given it a one, but there were brief moments when you could see the actors really really straining to make this worthwhile. I think the worst thing was the underwater scene's held off of the dock. The underwater lighting seemed to come from no were, and whenever someone we were supposed to care about was close to running out of air, this air tank would kind of appear. I would avoid this, unless there is nothing else on the shelf. Good Day.\"]\n",
            "\n",
            "labels:  [1 1 0]\n"
          ]
        }
      ]
    },
    {
      "cell_type": "markdown",
      "source": [
        "### **Buat Teks Encoder**"
      ],
      "metadata": {
        "id": "pkDioOGjdbjM"
      }
    },
    {
      "cell_type": "code",
      "source": [
        "VOCAB_SIZE = 1000\n",
        "encoder = tf.keras.layers.TextVectorization(\n",
        "    max_tokens=VOCAB_SIZE)\n",
        "encoder.adapt(train_dataset.map(lambda text, label: text))"
      ],
      "metadata": {
        "id": "rzziF4pncn08"
      },
      "execution_count": 7,
      "outputs": []
    },
    {
      "cell_type": "code",
      "source": [
        "vocab = np.array(encoder.get_vocabulary())\n",
        "vocab[:20]"
      ],
      "metadata": {
        "id": "6e6GHV7IdqmH",
        "outputId": "718b1d15-640e-4fc2-da6e-2ea29af85743",
        "colab": {
          "base_uri": "https://localhost:8080/"
        }
      },
      "execution_count": 9,
      "outputs": [
        {
          "output_type": "execute_result",
          "data": {
            "text/plain": [
              "array(['', '[UNK]', 'the', 'and', 'a', 'of', 'to', 'is', 'in', 'it', 'i',\n",
              "       'this', 'that', 'br', 'was', 'as', 'for', 'with', 'movie', 'but'],\n",
              "      dtype='<U14')"
            ]
          },
          "metadata": {},
          "execution_count": 9
        }
      ]
    },
    {
      "cell_type": "code",
      "source": [
        "encoded_example = encoder(example)[:3].numpy()\n",
        "encoded_example"
      ],
      "metadata": {
        "id": "TQ-hkZY7d8Qe",
        "outputId": "e1044865-3b11-4e3a-aa12-9b5d9f032e66",
        "colab": {
          "base_uri": "https://localhost:8080/"
        }
      },
      "execution_count": 11,
      "outputs": [
        {
          "output_type": "execute_result",
          "data": {
            "text/plain": [
              "array([[ 10, 434,  11, ...,   0,   0,   0],\n",
              "       [105, 362,   1, ...,   0,   0,   0],\n",
              "       [ 11,  18,  14, ...,   0,   0,   0]])"
            ]
          },
          "metadata": {},
          "execution_count": 11
        }
      ]
    },
    {
      "cell_type": "code",
      "source": [
        "for n in range(3):\n",
        "  print(\"Original: \", example[n].numpy())\n",
        "  print(\"Round-trip: \", \" \".join(vocab[encoded_example[n]]))\n",
        "  print()"
      ],
      "metadata": {
        "id": "4glfWbKJeQde",
        "outputId": "d1dd61a8-411e-4af8-b829-5e40b100b27c",
        "colab": {
          "base_uri": "https://localhost:8080/"
        }
      },
      "execution_count": 12,
      "outputs": [
        {
          "output_type": "stream",
          "name": "stdout",
          "text": [
            "Original:  b'I loved this movie. Great storyline and actors and good movie sets. It told the story in a way I can easily understand and pay attention to without falling asleep. I would like to know where I could get the soundtrack. I can not find it anywhere. Please email me if you know where I could get the soundtrack. Other than not being able to find the soundtrack I thought the movie was fascinating. Swayze did a great job. I think this is some of his best work. His past movies were OK, but this one really told a story for a change. This will go down in history as being one of the best TV films ever aired. Congrats to the producers and writers of such a great piece of work.'\n",
            "Round-trip:  i loved this movie great storyline and actors and good movie sets it told the story in a way i can easily understand and pay attention to without [UNK] [UNK] i would like to know where i could get the soundtrack i can not find it [UNK] please [UNK] me if you know where i could get the soundtrack other than not being able to find the soundtrack i thought the movie was [UNK] [UNK] did a great job i think this is some of his best work his past movies were ok but this one really told a story for a change this will go down in history as being one of the best tv films ever [UNK] [UNK] to the [UNK] and writers of such a great piece of work                                                                                                                                                                                                                                                                                                                                                                                                                                                                                                                                                                                                                                                                                                                                                                                                                                                                                                    \n",
            "\n",
            "Original:  b\"Two women, sick of their controlling husbands, taking a vacation in Italy for a month with two other very different women.They come back refreshed and energized in this wonderful little film by Merchant - Ivory.<br /><br />Great scenery and the location isn't bad either. Seriously, a very good period piece 7 of 10\"\n",
            "Round-trip:  two women [UNK] of their [UNK] [UNK] taking a [UNK] in [UNK] for a [UNK] with two other very different [UNK] come back [UNK] and [UNK] in this wonderful little film by [UNK] [UNK] br great [UNK] and the [UNK] isnt bad either seriously a very good period piece [UNK] of 10                                                                                                                                                                                                                                                                                                                                                                                                                                                                                                                                                                                                                                                                                                                                                                                                                                                                                                                                                                                    \n",
            "\n",
            "Original:  b\"This movie was like a bad indie with A-list talent. The plot was silly, all the way to the end. It reminded me very much of something churned out for the home video market in the 1980's. I would have given it a one, but there were brief moments when you could see the actors really really straining to make this worthwhile. I think the worst thing was the underwater scene's held off of the dock. The underwater lighting seemed to come from no were, and whenever someone we were supposed to care about was close to running out of air, this air tank would kind of appear. I would avoid this, unless there is nothing else on the shelf. Good Day.\"\n",
            "Round-trip:  this movie was like a bad [UNK] with [UNK] talent the plot was silly all the way to the end it [UNK] me very much of something [UNK] out for the home video [UNK] in the [UNK] i would have given it a one but there were [UNK] moments when you could see the actors really really [UNK] to make this [UNK] i think the worst thing was the [UNK] scenes [UNK] off of the [UNK] the [UNK] [UNK] seemed to come from no were and [UNK] someone we were supposed to care about was close to running out of air this air [UNK] would kind of appear i would avoid this unless there is nothing else on the [UNK] good day                                                                                                                                                                                                                                                                                                                                                                                                                                                                                                                                                                                                                                                                                                                                                                                                                                                                                                              \n",
            "\n"
          ]
        }
      ]
    },
    {
      "cell_type": "markdown",
      "source": [
        "### **Buat Model**"
      ],
      "metadata": {
        "id": "mJwe40EXel4P"
      }
    },
    {
      "cell_type": "code",
      "source": [
        "model = tf.keras.Sequential([\n",
        "    encoder,\n",
        "    tf.keras.layers.Embedding(\n",
        "        input_dim=len(encoder.get_vocabulary()),\n",
        "        output_dim=64,\n",
        "        # Use masking to handle the variable sequence lengths\n",
        "        mask_zero=True),\n",
        "    tf.keras.layers.Bidirectional(tf.keras.layers.LSTM(64)),\n",
        "    tf.keras.layers.Dense(64, activation='relu'),\n",
        "    tf.keras.layers.Dense(1)\n",
        "])"
      ],
      "metadata": {
        "id": "LMC3m5b6eVd5"
      },
      "execution_count": 13,
      "outputs": []
    },
    {
      "cell_type": "code",
      "source": [
        "print([layer.supports_masking for layer in model.layers])"
      ],
      "metadata": {
        "id": "MnnVecVheqKy",
        "outputId": "f8d9815e-0743-4fe0-b63e-27dc72a6d921",
        "colab": {
          "base_uri": "https://localhost:8080/"
        }
      },
      "execution_count": 16,
      "outputs": [
        {
          "output_type": "stream",
          "name": "stdout",
          "text": [
            "[False, True, True, True, True]\n"
          ]
        }
      ]
    },
    {
      "cell_type": "code",
      "source": [
        "# predict on a sample text without padding.\n",
        "\n",
        "sample_text = ('The movie was cool. The animation and the graphics '\n",
        "               'were out of this world. I would recommend this movie.')\n",
        "sample_padded = pad_sequences(tokenizer.texts_to_sequences([sample_text]), maxlen=max_length)\n",
        "\n",
        "# Lakukan prediksi\n",
        "predictions = model.predict(np.array(sample_padded))\n",
        "print(predictions[0])"
      ],
      "metadata": {
        "id": "s0m3A_1yevyy",
        "outputId": "46514ef7-26d8-440f-dbf8-71e9f9eb840e",
        "colab": {
          "base_uri": "https://localhost:8080/",
          "height": 211
        }
      },
      "execution_count": 33,
      "outputs": [
        {
          "output_type": "error",
          "ename": "NameError",
          "evalue": "name 'tokenizer' is not defined",
          "traceback": [
            "\u001b[0;31m---------------------------------------------------------------------------\u001b[0m",
            "\u001b[0;31mNameError\u001b[0m                                 Traceback (most recent call last)",
            "\u001b[0;32m<ipython-input-33-753d75adcb5e>\u001b[0m in \u001b[0;36m<cell line: 5>\u001b[0;34m()\u001b[0m\n\u001b[1;32m      3\u001b[0m sample_text = ('The movie was cool. The animation and the graphics '\n\u001b[1;32m      4\u001b[0m                'were out of this world. I would recommend this movie.')\n\u001b[0;32m----> 5\u001b[0;31m \u001b[0msample_padded\u001b[0m \u001b[0;34m=\u001b[0m \u001b[0mpad_sequences\u001b[0m\u001b[0;34m(\u001b[0m\u001b[0mtokenizer\u001b[0m\u001b[0;34m.\u001b[0m\u001b[0mtexts_to_sequences\u001b[0m\u001b[0;34m(\u001b[0m\u001b[0;34m[\u001b[0m\u001b[0msample_text\u001b[0m\u001b[0;34m]\u001b[0m\u001b[0;34m)\u001b[0m\u001b[0;34m,\u001b[0m \u001b[0mmaxlen\u001b[0m\u001b[0;34m=\u001b[0m\u001b[0mmax_length\u001b[0m\u001b[0;34m)\u001b[0m\u001b[0;34m\u001b[0m\u001b[0;34m\u001b[0m\u001b[0m\n\u001b[0m\u001b[1;32m      6\u001b[0m \u001b[0;34m\u001b[0m\u001b[0m\n\u001b[1;32m      7\u001b[0m \u001b[0;31m# Lakukan prediksi\u001b[0m\u001b[0;34m\u001b[0m\u001b[0;34m\u001b[0m\u001b[0m\n",
            "\u001b[0;31mNameError\u001b[0m: name 'tokenizer' is not defined"
          ]
        }
      ]
    },
    {
      "cell_type": "code",
      "source": [],
      "metadata": {
        "id": "0baYjOHufBkb"
      },
      "execution_count": null,
      "outputs": []
    }
  ]
}