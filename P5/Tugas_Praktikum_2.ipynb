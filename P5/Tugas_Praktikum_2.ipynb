{
 "cells": [
  {
   "cell_type": "markdown",
   "metadata": {},
   "source": [
    "# Tugas 2"
   ]
  },
  {
   "cell_type": "markdown",
   "metadata": {},
   "source": [
    "Buatlah model klasifikasi dengan menggunakan SVM berdasarkan data pada Percobaan 5 dengan menggunakan fitur histogram."
   ]
  },
  {
   "cell_type": "markdown",
   "metadata": {},
   "source": [
    "Preparation"
   ]
  },
  {
   "cell_type": "code",
   "execution_count": 18,
   "metadata": {},
   "outputs": [],
   "source": [
    "from sklearn.metrics import accuracy_score\n",
    "from sklearn.svm import SVC\n",
    "from sklearn.metrics import classification_report\n",
    "import cv2\n",
    "import os\n",
    "import numpy as np\n",
    "\n",
    "train_dir = 'images/training/'\n",
    "test_dir = 'images/test/'"
   ]
  },
  {
   "cell_type": "markdown",
   "metadata": {},
   "source": [
    "Membuat Fungsi Untuk Histogram"
   ]
  },
  {
   "cell_type": "code",
   "execution_count": 19,
   "metadata": {},
   "outputs": [],
   "source": [
    "def get_histogram(imgData):\n",
    "\n",
    "    # convert it to HSV\n",
    "    imgData = cv2.cvtColor(imgData, cv2.COLOR_RGB2HSV)\n",
    "\n",
    "    # pull the histogram\n",
    "    histogram = cv2.calcHist([imgData], [0, 1, 2], None, [8, 8, 8], [0, 256, 0, 256, 0, 256])\n",
    "\n",
    "    # normalize and flatten the result\n",
    "    histogram = cv2.normalize(histogram, None).flatten()\n",
    "    return histogram"
   ]
  },
  {
   "cell_type": "markdown",
   "metadata": {},
   "source": [
    "Melakukan Standarisasi dan Encoder Pada Label"
   ]
  },
  {
   "cell_type": "code",
   "execution_count": 20,
   "metadata": {},
   "outputs": [],
   "source": [
    "def standarized_input(image):\n",
    "    # resize to w: 1100, h:600\n",
    "    std_img = cv2.resize(image, (1100,600))\n",
    "\n",
    "    return std_img\n",
    "\n",
    "def label_encoder(label):\n",
    "    # Encode the label\n",
    "    # day as 1; night as 0\n",
    "    num_val = 0\n",
    "\n",
    "    if(label == 'day'):\n",
    "        num_val = 1\n",
    "\n",
    "    return num_val"
   ]
  },
  {
   "cell_type": "markdown",
   "metadata": {},
   "source": [
    "Membuat Fungsi Untuk Memuat dan Memproses Data"
   ]
  },
  {
   "cell_type": "code",
   "execution_count": 21,
   "metadata": {},
   "outputs": [],
   "source": [
    "def preprocess_data(directory):\n",
    "    features = []\n",
    "    labels = []\n",
    "\n",
    "    for label in os.listdir(directory):\n",
    "        label_dir = os.path.join(directory, label)\n",
    "        for img_name in os.listdir(label_dir):\n",
    "            img_path = os.path.join(label_dir, img_name)\n",
    "            img = cv2.imread(img_path)\n",
    "            if img is not None:\n",
    "                img = standarized_input(img)\n",
    "                histogram = get_histogram(img)\n",
    "                features.append(histogram)\n",
    "                labels.append(label_encoder(label))\n",
    "    return np.array(features), np.array(labels)"
   ]
  },
  {
   "cell_type": "markdown",
   "metadata": {},
   "source": [
    "Praproses Data Training dan Testing"
   ]
  },
  {
   "cell_type": "code",
   "execution_count": 22,
   "metadata": {},
   "outputs": [],
   "source": [
    "# Muat dan praproses data training\n",
    "X_train, y_train = preprocess_data(train_dir)\n",
    "\n",
    "# Muat dan praproses data testing\n",
    "X_test, y_test = preprocess_data(test_dir)"
   ]
  },
  {
   "cell_type": "markdown",
   "metadata": {},
   "source": [
    "Membuat dan Melatih Model SVM"
   ]
  },
  {
   "cell_type": "code",
   "execution_count": 23,
   "metadata": {},
   "outputs": [],
   "source": [
    "svm_model = SVC()\n",
    "svm_model.fit(X_train, y_train)\n",
    "\n",
    "testPredictResult = svm_model.predict(X_test)"
   ]
  },
  {
   "cell_type": "markdown",
   "metadata": {},
   "source": [
    "Melakukan Prediksi Pada Data Testing dan Menghitung Akurasi (Serta Menampilkan Hasil)"
   ]
  },
  {
   "cell_type": "code",
   "execution_count": 24,
   "metadata": {},
   "outputs": [
    {
     "name": "stdout",
     "output_type": "stream",
     "text": [
      "Akurasi: 0.9875\n",
      "\n",
      "Laporan Klasifikasi:\n",
      "              precision    recall  f1-score   support\n",
      "\n",
      "       night       0.99      0.99      0.99        80\n",
      "         day       0.99      0.99      0.99        80\n",
      "\n",
      "    accuracy                           0.99       160\n",
      "   macro avg       0.99      0.99      0.99       160\n",
      "weighted avg       0.99      0.99      0.99       160\n",
      "\n"
     ]
    }
   ],
   "source": [
    "# Bagian 4: Memprediksi hasil pada data testing\n",
    "testPredictResult = svm_model.predict(X_test)\n",
    "\n",
    "# Bagian 5: Menghitung akurasi\n",
    "accuracy = accuracy_score(y_test, testPredictResult)\n",
    "print(f\"Akurasi: {accuracy:.4f}\")\n",
    "\n",
    "# Bagian 6: Menampilkan laporan klasifikasi\n",
    "print(\"\\nLaporan Klasifikasi:\")\n",
    "print(classification_report(y_test, testPredictResult, target_names=['night', 'day']))"
   ]
  }
 ],
 "metadata": {
  "kernelspec": {
   "display_name": "base",
   "language": "python",
   "name": "python3"
  },
  "language_info": {
   "codemirror_mode": {
    "name": "ipython",
    "version": 3
   },
   "file_extension": ".py",
   "mimetype": "text/x-python",
   "name": "python",
   "nbconvert_exporter": "python",
   "pygments_lexer": "ipython3",
   "version": "3.11.5"
  }
 },
 "nbformat": 4,
 "nbformat_minor": 2
}
